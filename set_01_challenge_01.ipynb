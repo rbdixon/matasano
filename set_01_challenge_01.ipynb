{
 "cells": [
  {
   "cell_type": "code",
   "execution_count": 230,
   "metadata": {
    "collapsed": false
   },
   "outputs": [],
   "source": [
    "def hex_to_base64(raw):\n",
    "    # Reference: https://tools.ietf.org/html/rfc4648\n",
    "    out = \"\"\n",
    "\n",
    "    if (raw != \"\"):   \n",
    "        # parse string as base-16 integer\n",
    "        input = int(raw, 16)\n",
    "        \n",
    "        # LSB pad\n",
    "        bits = len(raw)*8\n",
    "        pad_bits = bits % 6\n",
    "        input = input << pad_bits\n",
    "\n",
    "        # Number of 6-bit groups\n",
    "        # Note: Python will return an integer result as if floor() had been used\n",
    "        ngroups = ( input.bit_length() / 6 )\n",
    "\n",
    "        while ngroups >= 0:\n",
    "            # shift and mask\n",
    "            code = ( ( input >> ngroups*6 ) & int('111111', 2) )\n",
    "\n",
    "            # lookup base64 character\n",
    "            if   ( code <= 25  ):\n",
    "                out += chr( code + ord('A') )\n",
    "            elif ( code <= 51 ):\n",
    "                out += chr( code - 26 + ord('a') )\n",
    "            elif ( code <= 61 ):\n",
    "                out += chr( code - 52 + ord('0') )\n",
    "            elif ( code == 62 ):\n",
    "                out += '+'\n",
    "            elif ( code == 63 ):\n",
    "                out += '/'\n",
    "\n",
    "            # Next group, please\n",
    "            ngroups -= 1\n",
    "            \n",
    "        # Byte pad\n",
    "        out = out + ( \"=\" * (pad_bits / 2) )\n",
    "    \n",
    "    return out"
   ]
  },
  {
   "cell_type": "code",
   "execution_count": 200,
   "metadata": {
    "collapsed": false
   },
   "outputs": [],
   "source": [
    "# Provided test case\n",
    "assert( hex_to_base64(\"49276d206b696c6c696e6720796f757220627261696e206c696b65206120706f69736f6e6f7573206d757368726f6f6d\") == \"SSdtIGtpbGxpbmcgeW91ciBicmFpbiBsaWtlIGEgcG9pc29ub3VzIG11c2hyb29t\" )"
   ]
  },
  {
   "cell_type": "code",
   "execution_count": 229,
   "metadata": {
    "collapsed": false
   },
   "outputs": [],
   "source": [
    "# Simple test cases from RFC4648\n",
    "assert( hex_to_base64(\"\") == \"\" )\n",
    "assert( hex_to_base64(\"14fb9c03d97e\") == \"FPucA9l+\" )\n",
    "assert( hex_to_base64(\"14fb9c03d9\") == \"FPucA9k=\" )\n",
    "assert( hex_to_base64(\"14fb9c03\") == \"FPucAw==\" )"
   ]
  }
 ],
 "metadata": {
  "kernelspec": {
   "display_name": "Python 2",
   "language": "python",
   "name": "python2"
  },
  "language_info": {
   "codemirror_mode": {
    "name": "ipython",
    "version": 2
   },
   "file_extension": ".py",
   "mimetype": "text/x-python",
   "name": "python",
   "nbconvert_exporter": "python",
   "pygments_lexer": "ipython2",
   "version": "2.7.10"
  }
 },
 "nbformat": 4,
 "nbformat_minor": 0
}
