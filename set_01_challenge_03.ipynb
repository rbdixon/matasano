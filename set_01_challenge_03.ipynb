{
 "cells": [
  {
   "cell_type": "markdown",
   "metadata": {},
   "source": [
    "Include xor() function from prior challenge."
   ]
  },
  {
   "cell_type": "code",
   "execution_count": 1,
   "metadata": {
    "collapsed": false
   },
   "outputs": [],
   "source": [
    "from numpy import corrcoef\n",
    "import string\n",
    "import array\n",
    "import numpy as np\n",
    "import collections\n",
    "\n",
    "with open(\"google-10000-english/google-10000-english-usa.txt\") as f:\n",
    "    word_list = map( lambda x: x.rstrip().upper(), f.readlines() )\n",
    "    \n",
    "%run 'set_01_challenge_02.ipynb'"
   ]
  },
  {
   "cell_type": "markdown",
   "metadata": {},
   "source": [
    "######  Score string to see if it is English"
   ]
  },
  {
   "cell_type": "markdown",
   "metadata": {},
   "source": [
    "Scoring function based on correlation [english relative letter frequency table](http://www.math.cornell.edu/~mec/2003-2004/cryptography/subs/frequencies.html):"
   ]
  },
  {
   "cell_type": "markdown",
   "metadata": {},
   "source": [
    "This simple correlation coefficient wouldn't be very effective for language classification but may work well for simply distinguishing between incorrect and correct plaintext."
   ]
  },
  {
   "cell_type": "code",
   "execution_count": 2,
   "metadata": {
    "collapsed": false
   },
   "outputs": [],
   "source": [
    "def score_english_letter_cor(txt):\n",
    "    # English language letter frequency table for A..Z\n",
    "    freq_table = array.array('f', [8.12, 1.49, 2.71, 4.32, 12.02, 2.30, 2.03, 5.92, 7.31, 0.10, 0.69, 3.98, 2.61, 6.95, 7.68, 1.82, 0.11, 6.02, 6.28, 9.10, 2.88, 1.11, 2.09, 0.17, 2.11, 0.07])\n",
    "\n",
    "    # Compute txt letter frequency\n",
    "    txt_freq_dict = collections.defaultdict(int)\n",
    "    txt_freq = []\n",
    "    n_txt = float(len(txt))\n",
    "    \n",
    "    # Upcase, filter to keep just uppercase characters which drops punctuation\n",
    "    # Build a relative frequency table for the input txt and test for correlation to english\n",
    "    for c in filter( str.isupper, txt.upper() ):\n",
    "        txt_freq_dict[c] += 1\n",
    "    for l in string.ascii_uppercase:\n",
    "        txt_freq += [ txt_freq_dict[l] / n_txt ] \n",
    "    eng_cor = corrcoef(freq_table, txt_freq)[0, 1]\n",
    "    \n",
    "    return eng_cor"
   ]
  },
  {
   "cell_type": "code",
   "execution_count": 3,
   "metadata": {
    "collapsed": true
   },
   "outputs": [],
   "source": [
    "def score_english_words(txt, word_list):\n",
    "    return len( filter( lambda word: word in word_list, txt.upper().split() ) )"
   ]
  },
  {
   "cell_type": "markdown",
   "metadata": {},
   "source": [
    "###### Decode hex encoded strings"
   ]
  },
  {
   "cell_type": "code",
   "execution_count": 4,
   "metadata": {
    "collapsed": false
   },
   "outputs": [],
   "source": [
    "def hex_to_ascii(hstr):\n",
    "    # Handle invalid hex strings by returning an empty string.\n",
    "    try:\n",
    "        return bytearray.fromhex( hstr ).decode('ascii').encode('ascii', 'ignore')\n",
    "    except:\n",
    "        return \"\""
   ]
  },
  {
   "cell_type": "markdown",
   "metadata": {},
   "source": [
    "Tests from the [Fixed XOR](http://cryptopals.com/sets/1/challenges/2) exercise."
   ]
  },
  {
   "cell_type": "code",
   "execution_count": 5,
   "metadata": {
    "collapsed": false
   },
   "outputs": [
    {
     "data": {
      "text/plain": [
       "\"hit the bull's eye\""
      ]
     },
     "execution_count": 5,
     "metadata": {},
     "output_type": "execute_result"
    }
   ],
   "source": [
    "hex_to_ascii('686974207468652062756c6c277320657965')"
   ]
  },
  {
   "cell_type": "code",
   "execution_count": 6,
   "metadata": {
    "collapsed": false
   },
   "outputs": [
    {
     "data": {
      "text/plain": [
       "\"the kid don't play\""
      ]
     },
     "execution_count": 6,
     "metadata": {},
     "output_type": "execute_result"
    }
   ],
   "source": [
    "hex_to_ascii('746865206b696420646f6e277420706c6179')"
   ]
  },
  {
   "cell_type": "markdown",
   "metadata": {},
   "source": [
    "###### Search for decryption key"
   ]
  },
  {
   "cell_type": "code",
   "execution_count": 7,
   "metadata": {
    "collapsed": false
   },
   "outputs": [],
   "source": [
    "def simple_xor_decrypt(hex_ciphertxt):\n",
    "    plaintxt = \"\"\n",
    "    \n",
    "    len_ciphertxt = len(hex_ciphertxt)/2\n",
    "    candidates = {}\n",
    "    for l in string.ascii_letters:\n",
    "        candidate_key = (l * len_ciphertxt).encode('hex')\n",
    "        candidates[l] = {}\n",
    "        candidates[l]['hex_plaintxt'] = xor( hex_ciphertxt, candidate_key )\n",
    "        candidates[l]['plaintxt'] = hex_to_ascii( candidates[l]['hex_plaintxt'] )\n",
    "        candidates[l]['score'] = score_english_letter_cor( candidates[l]['plaintxt'] ) * score_english_words( candidates[l]['plaintxt'], word_list )\n",
    "        \n",
    "    best_key = max( candidates.keys(), key = lambda x: candidates[x]['score'])\n",
    "    return candidates[ best_key ]['plaintxt']"
   ]
  },
  {
   "cell_type": "code",
   "execution_count": 8,
   "metadata": {
    "collapsed": false,
    "scrolled": true
   },
   "outputs": [
    {
     "data": {
      "text/plain": [
       "\"Cooking MC's like a pound of bacon\""
      ]
     },
     "execution_count": 8,
     "metadata": {},
     "output_type": "execute_result"
    }
   ],
   "source": [
    "simple_xor_decrypt(\"1b37373331363f78151b7f2b783431333d78397828372d363c78373e783a393b3736\")"
   ]
  },
  {
   "cell_type": "markdown",
   "metadata": {},
   "source": [
    "<img src=\"http://cdn.meme.am/instances/61639139.jpg\"/>"
   ]
  }
 ],
 "metadata": {
  "kernelspec": {
   "display_name": "Python 2",
   "language": "python",
   "name": "python2"
  },
  "language_info": {
   "codemirror_mode": {
    "name": "ipython",
    "version": 2
   },
   "file_extension": ".py",
   "mimetype": "text/x-python",
   "name": "python",
   "nbconvert_exporter": "python",
   "pygments_lexer": "ipython2",
   "version": "2.7.10"
  }
 },
 "nbformat": 4,
 "nbformat_minor": 0
}
